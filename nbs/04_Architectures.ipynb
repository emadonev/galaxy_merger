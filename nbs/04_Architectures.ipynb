{
 "cells": [
  {
   "cell_type": "code",
   "execution_count": null,
   "metadata": {},
   "outputs": [],
   "source": [
    "train_dl_pr, valid_dl_pr, test_dl_pr = pristine_data(64)\n",
    "train_dl_no, valid_dl_no, test_dl_no = noisy_data(64)"
   ]
  }
 ],
 "metadata": {
  "language_info": {
   "name": "python"
  },
  "orig_nbformat": 4
 },
 "nbformat": 4,
 "nbformat_minor": 2
}
