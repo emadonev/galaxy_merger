{
 "cells": [
  {
   "attachments": {},
   "cell_type": "markdown",
   "metadata": {},
   "source": [
    "### Recognizing High-redshift Galaxy Mergers with Convolutional Neural Networks using DeepMerge simulated data with an application on real-world data\n",
    "# Real data"
   ]
  },
  {
   "cell_type": "code",
   "execution_count": 1,
   "metadata": {},
   "outputs": [],
   "source": [
    "import os\n",
    "import numpy as np\n",
    "import time\n",
    "\n",
    "from astropy.io import fits\n",
    "from astropy.utils.data import download_file\n",
    "from astropy.visualization import simple_norm\n",
    "\n",
    "import matplotlib.pyplot as plt\n",
    "\n",
    "import torch\n",
    "from torch.utils.data import DataLoader\n",
    "from torch.utils.data import TensorDataset\n",
    "import torch.nn as nn\n",
    "from sklearn.model_selection import train_test_split\n",
    "import pandas as pd"
   ]
  },
  {
   "attachments": {},
   "cell_type": "markdown",
   "metadata": {},
   "source": [
    "*Ema Donev, 2023.*"
   ]
  },
  {
   "attachments": {},
   "cell_type": "markdown",
   "metadata": {},
   "source": [
    "In this notebook you will find all the information about the real data downloaded from AstroNN how to prepare it for modelling."
   ]
  },
  {
   "attachments": {},
   "cell_type": "markdown",
   "metadata": {},
   "source": [
    "## Section 1: Downloading the data"
   ]
  },
  {
   "attachments": {},
   "cell_type": "markdown",
   "metadata": {},
   "source": [
    "The data is from AstroNN, https://astronn.readthedocs.io/en/latest/galaxy10.html. I am downloading the Galaxy10 DECals dataset, which includes 17736 images of different galaxy types. These images were obtained from the SDSS images from the Galaxy Zoo Data release 2. The images were processed and published so that the general public can classify the galaxy images, since there are so many. After many classified images, it was determined that ~38 classifications were made per image and that the labels are just as trustworthy as if professional scientists classified galaxies. "
   ]
  },
  {
   "attachments": {},
   "cell_type": "markdown",
   "metadata": {},
   "source": [
    "The data is a `H5` file, or a `Hierarchical Data Format`. These are used to store massive amounts of data as multidimensional arrays, of which images are an example. Scientific data is typicaly stored in this format, and originally it was selected by NASA as a standard data format in science. "
   ]
  },
  {
   "cell_type": "code",
   "execution_count": 15,
   "metadata": {},
   "outputs": [],
   "source": [
    "import h5py\n",
    "with h5py.File('../input/Galaxy10_DECals.h5', 'r') as F:\n",
    "    images_real = np.array(F['images'])\n",
    "    labels_real = np.array(F['ans'])"
   ]
  },
  {
   "attachments": {},
   "cell_type": "markdown",
   "metadata": {},
   "source": [
    "This piece of code was taken from the AstroNN website for instructions on how to load the dataset. After we read it, we take the array under tag 'images' and 'ans' to extract pixel values for the images and labels."
   ]
  },
  {
   "cell_type": "code",
   "execution_count": null,
   "metadata": {},
   "outputs": [],
   "source": [
    "# select 16 random image indices:\n",
    "example_ids = np.random.choice(hdu_noisy[1].data.shape[0], 16)\n",
    "examples = [hdu_noisy[0].data[j, 1, :, :] for j in example_ids]\n",
    "\n",
    "# initialize your figure\n",
    "fig = plt.figure(figsize=(8, 8)) \n",
    "\n",
    "# loop through the randomly selected images and plot with labels\n",
    "for i, image in enumerate(examples):\n",
    "    ax = fig.add_subplot(4, 4, i+1)\n",
    "    norm = simple_norm(image, 'log', max_percent=99.75)\n",
    "\n",
    "    ax.imshow(image, aspect='equal', cmap='viridis', norm=norm)\n",
    "    ax.set_title('Merger='+str(bool(hdu_noisy[1].data[example_ids[i]][0])))\n",
    "    \n",
    "    ax.axis('off')\n",
    "    \n",
    "plt.show()"
   ]
  },
  {
   "cell_type": "code",
   "execution_count": 18,
   "metadata": {},
   "outputs": [],
   "source": [
    "images_real = images_real.astype(np.float32)\n",
    "labels_real = labels_real.astype(np.float32)"
   ]
  },
  {
   "cell_type": "code",
   "execution_count": null,
   "metadata": {},
   "outputs": [],
   "source": []
  }
 ],
 "metadata": {
  "kernelspec": {
   "display_name": "galaxy_merger",
   "language": "python",
   "name": "python3"
  },
  "language_info": {
   "codemirror_mode": {
    "name": "ipython",
    "version": 3
   },
   "file_extension": ".py",
   "mimetype": "text/x-python",
   "name": "python",
   "nbconvert_exporter": "python",
   "pygments_lexer": "ipython3",
   "version": "3.10.4"
  },
  "orig_nbformat": 4
 },
 "nbformat": 4,
 "nbformat_minor": 2
}
