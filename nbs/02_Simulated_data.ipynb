{
 "cells": [
  {
   "attachments": {},
   "cell_type": "markdown",
   "metadata": {},
   "source": [
    "### Recognizing High-redshift Galaxy Mergers with Convolutional Neural Networks using DeepMerge simulated data with an application on real-world data\n",
    "# Simulated data"
   ]
  },
  {
   "attachments": {},
   "cell_type": "markdown",
   "metadata": {},
   "source": [
    "*Ema Donev, 2023.*"
   ]
  },
  {
   "attachments": {},
   "cell_type": "markdown",
   "metadata": {},
   "source": [
    "In this notebook you will find all the information about the DEEPMERGE simulated data and how to prepare it in reference to *DeepMerge: Classifying High-redshift Merging Galaxies with Deep Neural Networks by Ćiprijanović A., Snyder G.F., Nord B. and Peek J. E. G., 2020.*"
   ]
  },
  {
   "attachments": {},
   "cell_type": "markdown",
   "metadata": {},
   "source": [
    "## Section 1: about the data"
   ]
  },
  {
   "attachments": {},
   "cell_type": "markdown",
   "metadata": {},
   "source": [
    "Data source: https://archive.stsci.edu/hlsp/deepmerge\n",
    "\n",
    "Data type: .fits file"
   ]
  },
  {
   "attachments": {},
   "cell_type": "markdown",
   "metadata": {},
   "source": [
    "#### Simulated images\n",
    "All of the images in this dataset are 75x75 pixels and contain 3 filters or layers. They depict simulated images of galaxies and galaxy mergers. \n",
    "\n",
    "Originally, the pictures are part of the Illustris project which creates simulated images for galaxy related concepts. 7000 images were downloaded and then processed by the DEEPMERGE team. Every image was modified so that the light from each star was smoothed out, using the adaptive spreading of stellar light. Next, gas and dust was modified to be unclear. Finally, nebular emissions were modified so that bright stars were covered with gas and dust from their formation.\n",
    "\n",
    "Each galaxy was simulated from 4 camera positions and 4 different imaging angles. The instruments picked were the James Webb Space Telescope and its NIRCAM camera, as well as the Hubble Space Telescope.\n",
    "\n",
    "From the 70000 original images the dataset was imbalanced, so scientists used **data augmentation** to make it balanced. **Data augmentation** is a process where we create copies of images but adjust them by rotating, flipping, etc. so the model gets new images for training. After this process, the dataset contains 15426 images, out of which 8120 are pictures of galaxies and 7306 are pictures of galaxy mergers."
   ]
  },
  {
   "attachments": {},
   "cell_type": "markdown",
   "metadata": {},
   "source": [
    "#### Data format\n",
    "\n",
    "The data is stored in a `.fits` file. A `FITS` file is the most used file format for astronomy. It stands for **Flexible Image Transport System**. "
   ]
  }
 ],
 "metadata": {
  "kernelspec": {
   "display_name": "Python 3",
   "language": "python",
   "name": "python3"
  },
  "language_info": {
   "name": "python",
   "version": "3.9.6"
  },
  "orig_nbformat": 4,
  "vscode": {
   "interpreter": {
    "hash": "31f2aee4e71d21fbe5cf8b01ff0e069b9275f58929596ceb00d14d90e3e16cd6"
   }
  }
 },
 "nbformat": 4,
 "nbformat_minor": 2
}
