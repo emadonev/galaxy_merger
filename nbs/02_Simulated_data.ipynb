{
 "cells": [
  {
   "attachments": {},
   "cell_type": "markdown",
   "metadata": {},
   "source": [
    "### Recognizing High-redshift Galaxy Mergers with Convolutional Neural Networks using DeepMerge simulated data with an application on real-world data\n",
    "# Simulated data"
   ]
  },
  {
   "cell_type": "code",
   "execution_count": 3,
   "metadata": {},
   "outputs": [],
   "source": [
    "import os\n",
    "import numpy as np\n",
    "import time\n",
    "\n",
    "from astropy.io import fits\n",
    "from astropy.utils.data import download_file\n",
    "\n",
    "import matplotlib.pyplot as plt\n",
    "\n",
    "import torch\n",
    "from torch.utils.data import DataLoader\n",
    "from torch.utils.data import TensorDataset\n",
    "import torch.nn as nn\n",
    "from sklearn.model_selection import train_test_split\n",
    "import pandas as pd"
   ]
  },
  {
   "cell_type": "code",
   "execution_count": 10,
   "metadata": {},
   "outputs": [],
   "source": [
    "import sys\n",
    "sys.path.insert(0,'../src/')\n",
    "import inputs"
   ]
  },
  {
   "attachments": {},
   "cell_type": "markdown",
   "metadata": {},
   "source": [
    "*Ema Donev, 2023.*"
   ]
  },
  {
   "attachments": {},
   "cell_type": "markdown",
   "metadata": {},
   "source": [
    "In this notebook you will find all the information about the DEEPMERGE simulated data and how to prepare it in reference to *DeepMerge: Classifying High-redshift Merging Galaxies with Deep Neural Networks by Ćiprijanović A., Snyder G.F., Nord B. and Peek J. E. G., 2020.*"
   ]
  },
  {
   "attachments": {},
   "cell_type": "markdown",
   "metadata": {},
   "source": [
    "## Section 1: about the data"
   ]
  },
  {
   "attachments": {},
   "cell_type": "markdown",
   "metadata": {},
   "source": [
    "Data source: https://archive.stsci.edu/hlsp/deepmerge\n",
    "\n",
    "Data type: .fits file"
   ]
  },
  {
   "attachments": {},
   "cell_type": "markdown",
   "metadata": {},
   "source": [
    "#### Simulated images\n",
    "All of the images in this dataset are 75x75 pixels and contain 3 filters or layers. They depict simulated images of galaxies and galaxy mergers. \n",
    "\n",
    "Originally, the pictures are part of the Illustris project which creates simulated images for galaxy related concepts. 7000 images were downloaded and then processed by the DEEPMERGE team. Every image was modified so that the light from each star was smoothed out, using the adaptive spreading of stellar light. Next, gas and dust was modified to be unclear. Finally, nebular emissions were modified so that bright stars were covered with gas and dust from their formation.\n",
    "\n",
    "Each galaxy was simulated from 4 camera positions and 4 different imaging angles. The instruments picked were the James Webb Space Telescope and its NIRCAM camera, as well as the Hubble Space Telescope.\n",
    "\n",
    "From the 70000 original images the dataset was imbalanced, so scientists used **data augmentation** to make it balanced. **Data augmentation** is a process where we create copies of images but adjust them by rotating, flipping, etc. so the model gets new images for training. After this process, the dataset contains 15426 images, out of which 8120 are pictures of galaxies and 7306 are pictures of galaxy mergers."
   ]
  },
  {
   "attachments": {},
   "cell_type": "markdown",
   "metadata": {},
   "source": [
    "#### Data format\n",
    "\n",
    "The data is stored in a `.fits` file. A `FITS` file is the most used file format for astronomy. It stands for **Flexible Image Transport System**. FITS files are used for transport of data as well as information about the data. It is composed of a `Header` and a `Data` part. The `Header` contains all the basic information about the FITS file and about the data. `Data` contains all the data in 2 parts: `Images` and `MergerLabel`. The `Data` can contain just 1 part, or more parts like in this FITS file. The `Images` part contains all the images, and the `MergerLabel` is a table which contains 15426 rows with the label of a Merger: (1) if positive, or *galaxy merger*, and (0) if negative, or *no galaxy merger*.   "
   ]
  },
  {
   "attachments": {},
   "cell_type": "markdown",
   "metadata": {},
   "source": [
    "## Section 2: importing and viewing the data"
   ]
  },
  {
   "attachments": {},
   "cell_type": "markdown",
   "metadata": {},
   "source": [
    "#### Step 1: importing the data"
   ]
  },
  {
   "attachments": {},
   "cell_type": "markdown",
   "metadata": {},
   "source": [
    "There are 2 versions of data: *noisy and pristine*. The **pristine** dataset contains images which are perfectly clear and do not contain any background noise. **Noisy dataset** contains images which have added background noise to mimick more realistic images. We are going to train 2 models on the 2 types of data."
   ]
  },
  {
   "cell_type": "code",
   "execution_count": 11,
   "metadata": {},
   "outputs": [],
   "source": [
    "hdu_pristine = fits.open('../input/pristine.fits') # opening the pristine dataset"
   ]
  },
  {
   "cell_type": "code",
   "execution_count": 12,
   "metadata": {},
   "outputs": [
    {
     "name": "stdout",
     "output_type": "stream",
     "text": [
      "Filename: ../input/pristine.fits\n",
      "No.    Name      Ver    Type      Cards   Dimensions   Format\n",
      "  0  Images        1 PrimaryHDU      29   (75, 75, 3, 15426)   float64   \n",
      "  1  MergerLabel    1 BinTableHDU     11   15426R x 1C   [D]   \n"
     ]
    }
   ],
   "source": [
    "hdu_pristine.info() # checking the information"
   ]
  },
  {
   "cell_type": "code",
   "execution_count": 13,
   "metadata": {},
   "outputs": [],
   "source": [
    "hdu_noisy = fits.open('../input/noisy.fits')"
   ]
  },
  {
   "cell_type": "code",
   "execution_count": 14,
   "metadata": {},
   "outputs": [
    {
     "name": "stdout",
     "output_type": "stream",
     "text": [
      "Filename: ../input/noisy.fits\n",
      "No.    Name      Ver    Type      Cards   Dimensions   Format\n",
      "  0  Images        1 PrimaryHDU      29   (75, 75, 3, 15426)   float64   \n",
      "  1  MergerLabel    1 BinTableHDU     11   15426R x 1C   [D]   \n"
     ]
    }
   ],
   "source": [
    "hdu_noisy.info() # checking the information"
   ]
  },
  {
   "attachments": {},
   "cell_type": "markdown",
   "metadata": {},
   "source": [
    "## Step 2: viewing the data"
   ]
  },
  {
   "attachments": {},
   "cell_type": "markdown",
   "metadata": {},
   "source": [
    "Let's divide the datasets into `x` and `y` components. "
   ]
  },
  {
   "cell_type": "code",
   "execution_count": null,
   "metadata": {},
   "outputs": [],
   "source": []
  }
 ],
 "metadata": {
  "kernelspec": {
   "display_name": "galaxy_merger",
   "language": "python",
   "name": "python3"
  },
  "language_info": {
   "codemirror_mode": {
    "name": "ipython",
    "version": 3
   },
   "file_extension": ".py",
   "mimetype": "text/x-python",
   "name": "python",
   "nbconvert_exporter": "python",
   "pygments_lexer": "ipython3",
   "version": "3.10.4"
  },
  "orig_nbformat": 4,
  "vscode": {
   "interpreter": {
    "hash": "20fad488e15e0be560c2f6c9497862ef42a065c1a9897ab2916050bc9d758974"
   }
  }
 },
 "nbformat": 4,
 "nbformat_minor": 2
}
